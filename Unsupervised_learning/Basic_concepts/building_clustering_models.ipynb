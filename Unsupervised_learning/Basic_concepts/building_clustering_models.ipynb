{
 "cells": [
  {
   "attachments": {},
   "cell_type": "markdown",
   "metadata": {},
   "source": [
    "# Clustering Algorithms"
   ]
  },
  {
   "attachments": {},
   "cell_type": "markdown",
   "metadata": {},
   "source": [
    "The commonly used clustering algorithms can be divided in 4 categories:\n",
    "- Centroid-based\n",
    "- Hierarchical\n",
    "- Distribution-based\n",
    "- Density-based\n",
    "\n",
    "In this lecture, we're gonna get into the elementary concepts of each category, and we're gonna create a clustering model using such knowledge."
   ]
  },
  {
   "attachments": {},
   "cell_type": "markdown",
   "metadata": {},
   "source": [
    "### Clustering as a classic ML problem"
   ]
  },
  {
   "attachments": {},
   "cell_type": "markdown",
   "metadata": {},
   "source": [
    "First, a brief introduction:\n",
    "Clustering is a canonical ML problem, is part of the reign of Unsupervised Learning because it is *not* used to classify any outcome, but to learn the hidden structure within the data in order to find structure or patterns."
   ]
  },
  {
   "attachments": {},
   "cell_type": "markdown",
   "metadata": {},
   "source": [
    "#### K-means Clustering"
   ]
  },
  {
   "attachments": {},
   "cell_type": "markdown",
   "metadata": {},
   "source": [
    "- Pick an initial solution (algoritgms exist to pick well)\n",
    "    - Set the hyperparameters\n",
    "        - Number of clusters\n",
    "        - Initial values of centroids\n",
    "- Iterate until convergence\n",
    "    - Update assignments of points to clusters\n",
    "        - Distance measure between point, cluster\n",
    "            - Euclidean distance often used\n",
    "    - Update coordinates of recerence vectors (**centroids**)\n",
    "        - Calculating cluster center from points in cluster\n",
    "            - Centroid (simple average) often used\n",
    "- Keep iterating until convergence"
   ]
  },
  {
   "attachments": {},
   "cell_type": "markdown",
   "metadata": {},
   "source": [
    "## Evaluating Clustering Models"
   ]
  },
  {
   "attachments": {},
   "cell_type": "markdown",
   "metadata": {},
   "source": [
    "### Homogeinity"
   ]
  },
  {
   "attachments": {},
   "cell_type": "markdown",
   "metadata": {},
   "source": [
    "- Each cluster should contain members of the same class"
   ]
  },
  {
   "attachments": {},
   "cell_type": "markdown",
   "metadata": {},
   "source": [
    "### Completeness"
   ]
  },
  {
   "attachments": {},
   "cell_type": "markdown",
   "metadata": {},
   "source": [
    "- All members of a class should lie in the same cluser"
   ]
  },
  {
   "attachments": {},
   "cell_type": "markdown",
   "metadata": {},
   "source": [
    ">Homogeinity and Completeness are inversely related\n",
    "<br>Each lies between 0 and 1\n",
    "<br>Similar to precision and recall\n",
    "<br>Need a metric to optimize trade-off"
   ]
  },
  {
   "attachments": {},
   "cell_type": "markdown",
   "metadata": {},
   "source": [
    "### V-measure"
   ]
  },
  {
   "attachments": {},
   "cell_type": "markdown",
   "metadata": {},
   "source": [
    "- Harmonic mean of Homogeinity and Completeness\n",
    "- Closer to lower of two\n",
    "- Favors even weightage to both metrics"
   ]
  },
  {
   "attachments": {},
   "cell_type": "markdown",
   "metadata": {},
   "source": [
    ">Related set of metrics\n",
    "<br>Bounded scores between 0 and 1\n",
    "<br>Easy to interpret - higher is better\n",
    "<br>Apply to any algorithm\n",
    "<br>However, require **labeled data**"
   ]
  },
  {
   "attachments": {},
   "cell_type": "markdown",
   "metadata": {},
   "source": [
    "There are other metrics to evaluate the clustering models, but for now we'll stay at this point."
   ]
  }
 ],
 "metadata": {
  "kernelspec": {
   "display_name": "base",
   "language": "python",
   "name": "python3"
  },
  "language_info": {
   "name": "python",
   "version": "3.11.3"
  },
  "orig_nbformat": 4
 },
 "nbformat": 4,
 "nbformat_minor": 2
}
